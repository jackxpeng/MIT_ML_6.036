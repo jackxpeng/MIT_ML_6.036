{
 "cells": [
  {
   "cell_type": "markdown",
   "metadata": {
    "id": "_xIaEwCD406A"
   },
   "source": [
    "#MIT 6.036 Spring 2019: Homework 7#\n",
    "\n",
    "This colab notebook provides code and a framework for problem 2 of [the homework](https://openlearninglibrary.mit.edu/courses/course-v1:MITx+6.036+1T2019/courseware/Week7/week7_homework/).  You can work out your solutions here, then submit your results back on the homework page when ready.\n",
    "\n",
    "## <section>**Setup**</section>\n",
    "\n",
    "First, download the code distribution for this homework that contains test cases and helper functions.\n",
    "\n",
    "Run the next code block to download and import the code for this lab.\n"
   ]
  },
  {
   "cell_type": "code",
   "execution_count": 13,
   "metadata": {
    "colab": {
     "base_uri": "https://localhost:8080/"
    },
    "id": "2YM-_zLf9Bp-",
    "outputId": "c280d0b2-6978-45d0-fd69-cfc5e9083035"
   },
   "outputs": [],
   "source": [
    "from code_for_hw7 import *\n",
    "import numpy as np\n",
    "import modules_disp as disp"
   ]
  },
  {
   "cell_type": "markdown",
   "metadata": {
    "id": "xFxhrJ5XDlvb"
   },
   "source": [
    "# 2) Implementing Neural Networks\n",
    "\n",
    "This homework considers neural networks with multiple layers. Each layer has multiple inputs and outputs, and can be broken down into two parts:\n",
    "\n",
    "<br>\n",
    "A linear module that implements a linear transformation:     $ z_j = (\\sum^{m}_{i=1} x_i W_{i,j}) + {W_0}_jz$\n",
    "\n",
    "specified by a weight matrix $W$ and a bias vector $W_0$. The output is $[z_1, \\ldots, z_n]^T$\n",
    "\n",
    "<br>\n",
    "An activation module that applies an activation function to the outputs of the linear module for some activation function $f$, such as Tanh or ReLU in the hidden layers or Softmax (see below) at the output layer. We write the output as: $[f(z_1), \\ldots, f(z_m)]^T$, although technically, for some activation functions such as softmax, each output will depend on all the $z_i$."
   ]
  },
  {
   "cell_type": "markdown",
   "metadata": {
    "id": "MjQgtwPHj08n"
   },
   "source": [
    "We'll use the modular implementation that we guided you through in the previous problem, which leads to clean code. The basic framework for SGD training is given below. We can construct a network and train it as follows:\n",
    "\n",
    "```\n",
    "# build a 3-layer network\n",
    "net = Sequential([Linear(2,3), Tanh(),\n",
    "                  Linear(3,3), Tanh(),\n",
    "    \t          Linear(3,2), SoftMax()])\n",
    "# train the network on data and labels\n",
    "net.sgd(X, Y)\n",
    "```\n",
    "Please fill in any unimplemented methods below:"
   ]
  },
  {
   "cell_type": "markdown",
   "metadata": {
    "id": "cEwpgsbnho9K"
   },
   "source": [
    "## Linear Modules: ##\n",
    "Each linear module has a forward method that takes in a batch of activations A (from the previous layer) and returns a batch of pre-activations Z.\n",
    "\n",
    "Each linear module has a backward method that takes in dLdZ and returns dLdA. This module also computes and stores dLdW and dLdW0, the gradients with respect to the weights."
   ]
  },
  {
   "cell_type": "code",
   "execution_count": 14,
   "metadata": {
    "id": "-VsYLAxCfy7U"
   },
   "outputs": [],
   "source": [
    "class Linear(Module):\n",
    "    def __init__(self, m, n):\n",
    "        self.m, self.n = (m, n)  # (in size, out size)\n",
    "        self.W0 = np.zeros([self.n, 1])  # (n x 1)\n",
    "        self.W = np.random.normal(0, 1.0 * m ** (-.5), [m, n])  # (m x n)\n",
    "\n",
    "    def forward(self, A):\n",
    "        self.A = A   # (m x b)  Hint: make sure you understand what b stands for\n",
    "        # return None  # Your code (n x b)\n",
    "        return self.W.T @ self.A + self.W0\n",
    "\n",
    "    def backward(self, dLdZ):  # dLdZ is (n x b), uses stored self.A\n",
    "        # self.dLdW = None       # Your code\n",
    "        # self.dLdW0 = None      # Your code\n",
    "        # return None            # Your code: return dLdA (m x b)\n",
    "\n",
    "        # dLdW\n",
    "        self.dLdW = self.A @ dLdZ.T\n",
    "        self.dLdW0 = np.sum(dLdZ, axis=-1, keepdims=True)\n",
    "        return self.W @ dLdZ\n",
    "\n",
    "    def sgd_step(self, lrate):  # Gradient descent step\n",
    "        # self.W = None           # Your code\n",
    "        # self.W0 = None          # Your code\n",
    "        self.W = self.W - lrate * self.dLdW\n",
    "        self.W0 = self.W0 - lrate * self.dLdW0"
   ]
  },
  {
   "cell_type": "markdown",
   "metadata": {
    "id": "cqZ7_kZYr5s5"
   },
   "source": [
    " You are encouraged to make your own tests for each module. A unit test method and an example test case are given below for your reference:"
   ]
  },
  {
   "cell_type": "code",
   "execution_count": 15,
   "metadata": {
    "colab": {
     "base_uri": "https://localhost:8080/"
    },
    "id": "aY3yePY0r4eA",
    "outputId": "e6e2de27-60d0-4100-9529-455387ccb481"
   },
   "outputs": [
    {
     "name": "stdout",
     "output_type": "stream",
     "text": [
      "linear_forward: OK\n",
      "linear_backward: OK\n",
      "linear_sgd_step_W: OK\n",
      "linear_sgd_step_W0: OK\n"
     ]
    }
   ],
   "source": [
    "np.random.seed(0)\n",
    "\n",
    "# data\n",
    "X, Y = super_simple_separable()\n",
    "\n",
    "# module\n",
    "linear_1 = Linear(2, 3)\n",
    "\n",
    "#hyperparameters\n",
    "lrate = 0.005\n",
    "\n",
    "# test case\n",
    "# forward\n",
    "z_1 = linear_1.forward(X)\n",
    "exp_z_1 =  np.array([[10.41750064, 6.91122168, 20.73366505, 22.8912344],\n",
    "                     [7.16872235, 3.48998746, 10.46996239, 9.9982611],\n",
    "                     [-2.07105455, 0.69413716, 2.08241149, 4.84966811]])\n",
    "unit_test(\"linear_forward\", exp_z_1, z_1)\n",
    "\n",
    "# backward\n",
    "dL_dz1 = np.array([[1.69467553e-09, -1.33530535e-06, 0.00000000e+00, -0.00000000e+00],\n",
    "                                     [-5.24547376e-07, 5.82459519e-04, -3.84805202e-10, 1.47943038e-09],\n",
    "                                     [-3.47063705e-02, 2.55611604e-01, -1.83538094e-02, 1.11838432e-04]])\n",
    "exp_dLdX = np.array([[-2.40194628e-02, 1.77064845e-01, -1.27021626e-02, 7.74006953e-05],\n",
    "                                    [2.39827939e-02, -1.75870737e-01, 1.26832126e-02, -7.72828555e-05]])\n",
    "dLdX = linear_1.backward(dL_dz1)\n",
    "unit_test(\"linear_backward\", exp_dLdX, dLdX)\n",
    "\n",
    "# sgd step\n",
    "linear_1.sgd_step(lrate)\n",
    "exp_linear_1_W = np.array([[1.2473734,  0.28294514,  0.68940437],\n",
    "                           [1.58455079, 1.32055711, -0.69218045]]),\n",
    "unit_test(\"linear_sgd_step_W\",  exp_linear_1_W,  linear_1.W)\n",
    "\n",
    "exp_linear_1_W0 = np.array([[6.66805339e-09],\n",
    "                            [-2.90968033e-06],\n",
    "                            [-1.01331631e-03]]),\n",
    "unit_test(\"linear_sgd_step_W0\", exp_linear_1_W0, linear_1.W0)\n"
   ]
  },
  {
   "cell_type": "markdown",
   "metadata": {
    "id": "2ETL01mPsBz4"
   },
   "source": [
    "The following datasets are defined for your use:\n",
    "*  `super_simple_separable_through_origin()`\n",
    "*  `super_simple_separable()`\n",
    "*  `xor()`\n",
    "*  `xor_more()`\n",
    "*  `hard()`\n",
    "\n",
    "Further, a plotting function is defined for your usage in modules_disp.py, and can be called in the colab notebook as `disp.plot_nn()`.\n",
    "```\n",
    "def plot_nn(X, Y, nn):\n",
    "    \"\"\" Plot output of nn vs. data \"\"\"\n",
    "    def predict(x):\n",
    "        return nn.modules[-1].class_fun(nn.forward(x))[0]\n",
    "    xmin, ymin = np.min(X, axis=1)-1\n",
    "    xmax, ymax = np.max(X, axis=1)+1\n",
    "    nax = plot_objective_2d(lambda x: predict(x), xmin, xmax, ymin, ymax)\n",
    "    plot_data(X, Y, nax)\n",
    "    plt.show()```\n"
   ]
  },
  {
   "cell_type": "markdown",
   "metadata": {
    "id": "4s70beWJh09h"
   },
   "source": [
    "## Activation functions: ##\n",
    "Each activation module has a forward method that takes in a batch of pre-activations Z and returns a batch of activations A.\n",
    "\n",
    "Each activation module has a backward method that takes in dLdA and returns dLdZ, with the exception of SoftMax, where we assume dLdZ is passed in."
   ]
  },
  {
   "cell_type": "markdown",
   "metadata": {
    "id": "kwaNAtLnhenT"
   },
   "source": [
    "### Tanh: ###"
   ]
  },
  {
   "cell_type": "code",
   "execution_count": 16,
   "metadata": {
    "id": "ff6eD3dnftiR"
   },
   "outputs": [],
   "source": [
    "class Tanh(Module):            # Layer activation\n",
    "    def forward(self, Z):\n",
    "        self.A = np.tanh(Z)\n",
    "        return self.A\n",
    "\n",
    "    def backward(self, dLdA):    # Uses stored self.A\n",
    "        # return None              # Your code: return dLdZ (?, b)\n",
    "        return dLdA * (1 - self.A**2)\n"
   ]
  },
  {
   "cell_type": "markdown",
   "metadata": {
    "id": "2FW7ocKRhcgY"
   },
   "source": [
    "### ReLU: ###"
   ]
  },
  {
   "cell_type": "code",
   "execution_count": 17,
   "metadata": {
    "id": "1fm2KsLUfqdp"
   },
   "outputs": [],
   "source": [
    "class ReLU(Module):              # Layer activation\n",
    "    def forward(self, Z):\n",
    "        # self.A = None            # Your code: (?, b)\n",
    "        self.A = np.where(Z > 0, Z, 0)\n",
    "        return self.A\n",
    "\n",
    "    def backward(self, dLdA):    # uses stored self.A\n",
    "        # return None              # Your code: return dLdZ (?, b)\n",
    "        return dLdA * np.where(self.A > 0, 1, 0)"
   ]
  },
  {
   "cell_type": "markdown",
   "metadata": {
    "id": "ZKtXuTQ0hSNO"
   },
   "source": [
    "###SoftMax: ###\n",
    "For `SoftMax.class_fun()`, given the column vector of class probabilities for each point (computed by Softmax), return a vector of the classes (integers) with the highest probability for each point."
   ]
  },
  {
   "cell_type": "code",
   "execution_count": 18,
   "metadata": {
    "id": "fqK-CJrnfn22"
   },
   "outputs": [],
   "source": [
    "class SoftMax(Module):           # Output activation\n",
    "    def forward(self, Z):\n",
    "        # return None              # Your code: (?, b)\n",
    "        e = np.exp(Z)\n",
    "        s = np.sum(e, axis=0)\n",
    "        return e / s\n",
    "\n",
    "    def backward(self, dLdZ):    # Assume that dLdZ is passed in\n",
    "        return dLdZ\n",
    "\n",
    "    def class_fun(self, Ypred):  # Return class indices\n",
    "        # return None              # Your code: (1, b)\n",
    "        return np.argmax(Ypred, axis=0)"
   ]
  },
  {
   "cell_type": "markdown",
   "metadata": {
    "id": "CZc7HnMSh4fn"
   },
   "source": [
    "## Loss Functions:##\n",
    "Each loss module has a forward method that takes in a batch of predictions Ypred (from the previous layer) and labels Y and returns a scalar loss value.\n",
    "\n",
    "The NLL module has a backward method that returns dLdZ, the gradient with respect to the preactivation to SoftMax (note: not the activation!), since we are always pairing SoftMax activation with NLL loss"
   ]
  },
  {
   "cell_type": "markdown",
   "metadata": {
    "id": "l4uy0pHVhNd8"
   },
   "source": [
    "### NLL: ###"
   ]
  },
  {
   "cell_type": "markdown",
   "metadata": {
    "id": "vTxABZJnzvLM"
   },
   "source": [
    "You should use multi-class NLL.\n",
    "\n",
    "$$\n",
    "\\frac{dNLL(Softmax(z))}{dz} = Y_{pred} - Y  \n",
    "$$"
   ]
  },
  {
   "cell_type": "code",
   "execution_count": 19,
   "metadata": {
    "id": "17Fb8mimflgb"
   },
   "outputs": [],
   "source": [
    "class NLL(Module):       # Loss\n",
    "    def forward(self, Ypred, Y):\n",
    "        self.Ypred = Ypred\n",
    "        self.Y = Y\n",
    "        # return None      # Your code\n",
    "        return np.sum(-Y * np.log(Ypred))\n",
    "\n",
    "\n",
    "    def backward(self):  # Use stored self.Ypred, self.Y\n",
    "        # return None      # Your code\n",
    "        return self.Ypred - self.Y"
   ]
  },
  {
   "cell_type": "markdown",
   "metadata": {
    "id": "y1EffzDFkqMX"
   },
   "source": [
    "## Activation and Loss Test Cases: ##\n",
    "Run Test 1 and Test 2 below and compare your outputs with the expected outputs.\n"
   ]
  },
  {
   "cell_type": "code",
   "execution_count": 20,
   "metadata": {
    "colab": {
     "base_uri": "https://localhost:8080/"
    },
    "id": "9DJFzpahkvcD",
    "outputId": "5ff61ff7-400a-4314-b53e-f0fab537a774"
   },
   "outputs": [
    {
     "name": "stdout",
     "output_type": "stream",
     "text": [
      "linear_1.W: OK\n",
      "linear_1.W0: OK\n",
      "linear_2.W: OK\n",
      "linear_2.W0: OK\n",
      "z_1: OK\n",
      "a_1: OK\n",
      "z_2: OK\n",
      "a_2: OK\n",
      "loss: OK\n",
      "dloss: OK\n",
      "dL_dz2: OK\n",
      "dL_da1: OK\n",
      "dL_dz1: OK\n",
      "dL_dX: OK\n",
      "updated_linear_1.W: OK\n",
      "updated_linear_1.W0: OK\n",
      "updated_linear_2.W: OK\n",
      "updated_linear_2.W0: OK\n"
     ]
    }
   ],
   "source": [
    "# TEST 1: sgd_test for Tanh activation and SoftMax output\n",
    "np.random.seed(0)\n",
    "sgd_test(Sequential([Linear(2,3), Tanh(), Linear(3,2), SoftMax()], NLL()), test_1_values)"
   ]
  },
  {
   "cell_type": "code",
   "execution_count": 21,
   "metadata": {
    "colab": {
     "base_uri": "https://localhost:8080/"
    },
    "id": "Bd0dXg-Qk05_",
    "outputId": "3f786d1a-88aa-4179-991f-82fb04275ff6"
   },
   "outputs": [
    {
     "name": "stdout",
     "output_type": "stream",
     "text": [
      "linear_1.W: OK\n",
      "linear_1.W0: OK\n",
      "linear_2.W: OK\n",
      "linear_2.W0: OK\n",
      "z_1: OK\n",
      "a_1: OK\n",
      "z_2: OK\n",
      "a_2: OK\n",
      "loss: OK\n",
      "dloss: OK\n",
      "dL_dz2: OK\n",
      "dL_da1: OK\n",
      "dL_dz1: OK\n",
      "dL_dX: OK\n",
      "updated_linear_1.W: OK\n",
      "updated_linear_1.W0: OK\n",
      "updated_linear_2.W: OK\n",
      "updated_linear_2.W0: OK\n"
     ]
    }
   ],
   "source": [
    "# TEST 2: sgd_test for ReLU activation and SoftMax output\n",
    "np.random.seed(0)\n",
    "sgd_test(Sequential([Linear(2,3), ReLU(), Linear(3,2), SoftMax()], NLL()), test_2_values)"
   ]
  },
  {
   "cell_type": "markdown",
   "metadata": {
    "id": "-l5JgBU2iBCZ"
   },
   "source": [
    "## Neural Network: ##"
   ]
  },
  {
   "cell_type": "markdown",
   "metadata": {
    "id": "eXMGcdnXgiF3"
   },
   "source": [
    "Implement SGD. Randomly pick a data point Xt, Yt by using np.random.randint to choose a random index into the data. Compute the predicted output Ypred for Xt with the forward method. Compute the loss for Ypred relative to Yt. Use the backward method to compute the gradients. Use the sgd_step method to change the weights. Repeat.\n",
    "\n",
    "We will (later) be generalizing SGD to operate on a \"mini-batch\" of data points instead of a single point. You should strive for an implementation of the forward, backward, and `class_fun` methods that works with batches of data. Note that when $b$ is mentioned as part of the shape of a matrix in the code, this $b$ refers to the number of points."
   ]
  },
  {
   "cell_type": "code",
   "execution_count": 34,
   "metadata": {
    "id": "ejO15Vr7fhKB"
   },
   "outputs": [],
   "source": [
    " class Sequential:\n",
    "    def __init__(self, modules, loss):            # List of modules, loss module\n",
    "        self.modules = modules\n",
    "        self.loss = loss\n",
    "\n",
    "    def sgd(self, X, Y, iters=100, lrate=0.005):  # Train\n",
    "        D, N = X.shape\n",
    "        loss = 0\n",
    "        for it in range(iters):\n",
    "            # pass                                  # Your code\n",
    "            i = np.random.randint(N)\n",
    "            Xt, Yt = X[:,i:i+1], Y[:,i:i+1]\n",
    "            Ypred = self.forward(Xt)\n",
    "            loss = self.loss.forward(Ypred, Yt)\n",
    "            dLdZ = self.loss.backward()\n",
    "            self.backward(dLdZ)\n",
    "            self.sgd_step(lrate)\n",
    "            self.print_accuracy(it, X, Y, loss, every=1000)            \n",
    "\n",
    "    def forward(self, Xt):                        # Compute Ypred\n",
    "        for m in self.modules: Xt = m.forward(Xt)\n",
    "        return Xt\n",
    "\n",
    "    def backward(self, delta):                    # Update dLdW and dLdW0\n",
    "        # Note reversed list of modules\n",
    "        for m in self.modules[::-1]: delta = m.backward(delta)\n",
    "\n",
    "    def sgd_step(self, lrate):                    # Gradient descent step\n",
    "        for m in self.modules: m.sgd_step(lrate)\n",
    "\n",
    "    def print_accuracy(self, it, X, Y, cur_loss, every=250):\n",
    "        # Utility method to print accuracy on full dataset, should\n",
    "        # improve over time when doing SGD. Also prints current loss,\n",
    "        # which should decrease over time. Call this on each iteration\n",
    "        # of SGD!\n",
    "        if it % every == 1:\n",
    "            cf = self.modules[-1].class_fun\n",
    "            acc = np.mean(cf(self.forward(X)) == cf(Y))\n",
    "            print('Iteration =', it, '\\tAcc =', acc, '\\tLoss =', cur_loss, flush=True)"
   ]
  },
  {
   "cell_type": "markdown",
   "metadata": {
    "id": "HUojaXqphDjh"
   },
   "source": [
    "## Neural Network / SGD Test Cases: ##\n",
    "Use Test 3 and Test 4 to help you debug."
   ]
  },
  {
   "cell_type": "code",
   "execution_count": 35,
   "metadata": {
    "colab": {
     "base_uri": "https://localhost:8080/",
     "height": 455
    },
    "id": "wmupM8OScodw",
    "outputId": "b172b7a7-96c9-4079-e844-ab51ae801cbb"
   },
   "outputs": [
    {
     "name": "stdout",
     "output_type": "stream",
     "text": [
      "Iteration = 1 \tAcc = 0.5 \tLoss = 0.5581706560965126\n",
      "Iteration = 1001 \tAcc = 0.9 \tLoss = 0.031586160350111116\n",
      "Iteration = 2001 \tAcc = 0.95 \tLoss = 0.00016659134553862913\n",
      "Iteration = 3001 \tAcc = 0.95 \tLoss = 0.020286123191513204\n",
      "Iteration = 4001 \tAcc = 0.95 \tLoss = 0.15438350949516244\n",
      "Iteration = 5001 \tAcc = 0.95 \tLoss = 9.68985843104694e-05\n",
      "Iteration = 6001 \tAcc = 0.95 \tLoss = 6.260447309563392e-07\n",
      "Iteration = 7001 \tAcc = 0.95 \tLoss = 0.24577742711063694\n",
      "Iteration = 8001 \tAcc = 0.95 \tLoss = 0.10182137754030812\n",
      "Iteration = 9001 \tAcc = 0.95 \tLoss = 6.705385593349474e-07\n",
      "Iteration = 10001 \tAcc = 0.95 \tLoss = 0.05677179041228267\n",
      "Iteration = 11001 \tAcc = 0.95 \tLoss = 0.0009548453838319272\n",
      "Iteration = 12001 \tAcc = 0.95 \tLoss = 0.06998328757525492\n",
      "Iteration = 13001 \tAcc = 0.95 \tLoss = 1.3534248761398322e-05\n",
      "Iteration = 14001 \tAcc = 0.95 \tLoss = 0.04790784897278654\n",
      "Iteration = 15001 \tAcc = 0.95 \tLoss = 0.0452815187579465\n",
      "Iteration = 16001 \tAcc = 0.95 \tLoss = 0.2784948739132527\n",
      "Iteration = 17001 \tAcc = 0.95 \tLoss = 1.6414757930260906\n",
      "Iteration = 18001 \tAcc = 0.95 \tLoss = 4.754224802926788e-09\n",
      "Iteration = 19001 \tAcc = 0.95 \tLoss = 0.05351870746165137\n",
      "Iteration = 20001 \tAcc = 0.95 \tLoss = 0.00026224912652790294\n",
      "Iteration = 21001 \tAcc = 0.95 \tLoss = 2.2487014902723773e-07\n",
      "Iteration = 22001 \tAcc = 0.95 \tLoss = 0.030302114076007962\n",
      "Iteration = 23001 \tAcc = 0.95 \tLoss = 0.026300709990373785\n",
      "Iteration = 24001 \tAcc = 0.95 \tLoss = 1.1319186874139037e-08\n",
      "Iteration = 25001 \tAcc = 0.95 \tLoss = 5.609241646110788e-05\n",
      "Iteration = 26001 \tAcc = 0.95 \tLoss = 3.204651642327901e-05\n",
      "Iteration = 27001 \tAcc = 0.95 \tLoss = 0.008247562239567756\n",
      "Iteration = 28001 \tAcc = 0.95 \tLoss = 1.0096001812852694e-10\n",
      "Iteration = 29001 \tAcc = 0.95 \tLoss = 3.0423444306557834e-07\n",
      "Iteration = 30001 \tAcc = 0.95 \tLoss = 5.861955227486692e-05\n",
      "Iteration = 31001 \tAcc = 1.0 \tLoss = 8.629783171767433e-06\n",
      "Iteration = 32001 \tAcc = 0.95 \tLoss = 6.588064409059998e-06\n",
      "Iteration = 33001 \tAcc = 1.0 \tLoss = 0.7486804848204295\n",
      "Iteration = 34001 \tAcc = 0.95 \tLoss = 3.7362075996119424e-06\n",
      "Iteration = 35001 \tAcc = 0.95 \tLoss = 4.685362066730477e-06\n",
      "Iteration = 36001 \tAcc = 0.95 \tLoss = 0.46754799080464315\n",
      "Iteration = 37001 \tAcc = 0.95 \tLoss = 8.034983585252469e-06\n",
      "Iteration = 38001 \tAcc = 1.0 \tLoss = 2.040782211971299e-09\n",
      "Iteration = 39001 \tAcc = 1.0 \tLoss = 0.01717301609081629\n",
      "Iteration = 40001 \tAcc = 1.0 \tLoss = 3.2951588179064747e-09\n",
      "Iteration = 41001 \tAcc = 0.95 \tLoss = 0.003056685232241097\n",
      "Iteration = 42001 \tAcc = 0.95 \tLoss = 0.02224519639194992\n",
      "Iteration = 43001 \tAcc = 0.95 \tLoss = 0.019605522228856285\n",
      "Iteration = 44001 \tAcc = 0.95 \tLoss = 1.9023303314701723e-06\n",
      "Iteration = 45001 \tAcc = 1.0 \tLoss = 0.010048205385177691\n",
      "Iteration = 46001 \tAcc = 0.95 \tLoss = 9.483167774110909e-06\n",
      "Iteration = 47001 \tAcc = 1.0 \tLoss = 6.483986743529273e-07\n",
      "Iteration = 48001 \tAcc = 0.95 \tLoss = 0.19042497471955888\n",
      "Iteration = 49001 \tAcc = 1.0 \tLoss = 2.388508930561093e-07\n",
      "Iteration = 50001 \tAcc = 1.0 \tLoss = 2.0732972223380448e-07\n",
      "Iteration = 51001 \tAcc = 1.0 \tLoss = 1.9928427816712997e-09\n",
      "Iteration = 52001 \tAcc = 1.0 \tLoss = 0.0014670574801216919\n",
      "Iteration = 53001 \tAcc = 1.0 \tLoss = 0.012472328020762773\n",
      "Iteration = 54001 \tAcc = 1.0 \tLoss = 0.2791636632932357\n",
      "Iteration = 55001 \tAcc = 1.0 \tLoss = 3.463221717356228e-07\n",
      "Iteration = 56001 \tAcc = 1.0 \tLoss = 5.140424683724362e-07\n",
      "Iteration = 57001 \tAcc = 1.0 \tLoss = 0.3675922040346343\n",
      "Iteration = 58001 \tAcc = 1.0 \tLoss = 1.0280639757267924e-07\n",
      "Iteration = 59001 \tAcc = 1.0 \tLoss = 3.5787386451690294e-09\n",
      "Iteration = 60001 \tAcc = 1.0 \tLoss = 3.922437049529458e-09\n",
      "Iteration = 61001 \tAcc = 1.0 \tLoss = 0.004254495691995706\n",
      "Iteration = 62001 \tAcc = 0.95 \tLoss = 0.00019452816161731937\n",
      "Iteration = 63001 \tAcc = 1.0 \tLoss = 1.3954525664972517e-07\n",
      "Iteration = 64001 \tAcc = 1.0 \tLoss = 2.0649540677764752e-07\n",
      "Iteration = 65001 \tAcc = 1.0 \tLoss = 0.0006940295030955738\n",
      "Iteration = 66001 \tAcc = 1.0 \tLoss = 1.0551210247475103e-06\n",
      "Iteration = 67001 \tAcc = 1.0 \tLoss = 0.00041373869185732347\n",
      "Iteration = 68001 \tAcc = 1.0 \tLoss = 0.009593331872292696\n",
      "Iteration = 69001 \tAcc = 1.0 \tLoss = 1.051335685231279e-10\n",
      "Iteration = 70001 \tAcc = 1.0 \tLoss = 2.4955667475551205e-06\n",
      "Iteration = 71001 \tAcc = 1.0 \tLoss = 8.257512866646176e-07\n",
      "Iteration = 72001 \tAcc = 1.0 \tLoss = 1.343336784173074e-08\n",
      "Iteration = 73001 \tAcc = 1.0 \tLoss = 1.4637791151365553e-07\n",
      "Iteration = 74001 \tAcc = 1.0 \tLoss = 9.422895744557766e-07\n",
      "Iteration = 75001 \tAcc = 1.0 \tLoss = 9.580986066838546e-07\n",
      "Iteration = 76001 \tAcc = 1.0 \tLoss = 4.791691655725818e-07\n",
      "Iteration = 77001 \tAcc = 1.0 \tLoss = 0.0005706424223040088\n",
      "Iteration = 78001 \tAcc = 1.0 \tLoss = 0.005540381345511716\n",
      "Iteration = 79001 \tAcc = 1.0 \tLoss = 0.009647353963579167\n",
      "Iteration = 80001 \tAcc = 1.0 \tLoss = 1.010366235172338e-10\n",
      "Iteration = 81001 \tAcc = 1.0 \tLoss = 0.0006953433481427615\n",
      "Iteration = 82001 \tAcc = 1.0 \tLoss = 2.793539763351367e-07\n",
      "Iteration = 83001 \tAcc = 1.0 \tLoss = 0.005464603127097132\n",
      "Iteration = 84001 \tAcc = 1.0 \tLoss = 2.1046656193634147e-06\n",
      "Iteration = 85001 \tAcc = 1.0 \tLoss = 0.00020526284952444813\n",
      "Iteration = 86001 \tAcc = 1.0 \tLoss = 5.307922929904672e-07\n",
      "Iteration = 87001 \tAcc = 1.0 \tLoss = 4.754092985810765e-07\n",
      "Iteration = 88001 \tAcc = 1.0 \tLoss = 6.254752271868325e-11\n",
      "Iteration = 89001 \tAcc = 1.0 \tLoss = 1.3735569358016293e-09\n",
      "Iteration = 90001 \tAcc = 1.0 \tLoss = 5.226159259859331e-07\n",
      "Iteration = 91001 \tAcc = 1.0 \tLoss = 0.0006126937635799547\n",
      "Iteration = 92001 \tAcc = 1.0 \tLoss = 1.9512789977961042e-07\n",
      "Iteration = 93001 \tAcc = 1.0 \tLoss = 0.05263785881356597\n",
      "Iteration = 94001 \tAcc = 1.0 \tLoss = 0.005273788968670497\n",
      "Iteration = 95001 \tAcc = 1.0 \tLoss = 0.0004169073511642133\n",
      "Iteration = 96001 \tAcc = 1.0 \tLoss = 0.0047139270015051265\n",
      "Iteration = 97001 \tAcc = 1.0 \tLoss = 4.238454032280298e-11\n",
      "Iteration = 98001 \tAcc = 1.0 \tLoss = 3.8773421607421733e-07\n",
      "Iteration = 99001 \tAcc = 1.0 \tLoss = 3.614173636842408e-08\n",
      "-3.46493986 -3.41956036 3.39710997 2.0597278\n"
     ]
    },
    {
     "data": {
      "image/png": "[encoded data removed]",
      "text/plain": [
       "<Figure size 640x480 with 2 Axes>"
      ]
     },
     "metadata": {},
     "output_type": "display_data"
    },
    {
     "data": {
      "text/plain": [
       "<__main__.Sequential at 0x7fe54ee7fda0>"
      ]
     },
     "execution_count": 35,
     "metadata": {},
     "output_type": "execute_result"
    }
   ],
   "source": [
    "# TEST 3: you should achieve 100% accuracy on the hard dataset (note that we provided plotting code)\n",
    "X, Y = hard()\n",
    "nn = Sequential([Linear(2, 10), ReLU(), Linear(10, 10), ReLU(), Linear(10,2), SoftMax()], NLL())\n",
    "disp.classify(X, Y, nn, it=100001)"
   ]
  },
  {
   "cell_type": "code",
   "execution_count": 12,
   "metadata": {
    "id": "MaWfgC7Qe3ar"
   },
   "outputs": [],
   "source": [
    "# TEST 4: try calling these methods that train with a simple dataset\n",
    "def nn_tanh_test():\n",
    "    np.random.seed(0)\n",
    "    nn = Sequential([Linear(2, 3), Tanh(), Linear(3, 2), SoftMax()], NLL())\n",
    "    X, Y = super_simple_separable()\n",
    "    nn.sgd(X, Y, iters=1, lrate=0.005)\n",
    "    return [np.vstack([nn.modules[0].W, nn.modules[0].W0.T]).tolist(),\n",
    "            np.vstack([nn.modules[2].W, nn.modules[2].W0.T]).tolist()]\n",
    "\n",
    "\n",
    "def nn_relu_test():\n",
    "    np.random.seed(0)\n",
    "    nn = Sequential([Linear(2, 3), ReLU(), Linear(3, 2), SoftMax()], NLL())\n",
    "    X, Y = super_simple_separable()\n",
    "    nn.sgd(X, Y, iters=2, lrate=0.005)\n",
    "    return [np.vstack([nn.modules[0].W, nn.modules[0].W0.T]).tolist(),\n",
    "            np.vstack([nn.modules[2].W, nn.modules[2].W0.T]).tolist()]\n",
    "\n",
    "\n",
    "def nn_pred_test():\n",
    "    np.random.seed(0)\n",
    "    nn = Sequential([Linear(2, 3), ReLU(), Linear(3, 2), SoftMax()], NLL())\n",
    "    X, Y = super_simple_separable()\n",
    "    nn.sgd(X, Y, iters=1, lrate=0.005)\n",
    "    Ypred = nn.forward(X)\n",
    "    return nn.modules[-1].class_fun(Ypred).tolist(), [nn.loss.forward(Ypred, Y)]\n"
   ]
  },
  {
   "cell_type": "code",
   "execution_count": 13,
   "metadata": {
    "colab": {
     "base_uri": "https://localhost:8080/"
    },
    "id": "_dx-zM2y3R0z",
    "outputId": "eb42b2d4-2a3e-4723-8855-d1e521bc8341"
   },
   "outputs": [
    {
     "data": {
      "text/plain": [
       "[[[1.2473733761848262, 0.2829538808226157, 0.6924193292712828],\n",
       "  [1.5845507770278007, 1.320562932207846, -0.6901721567010647],\n",
       "  [-8.47337764291184e-12, 2.6227368810847102e-09, 0.00017353185263155828]],\n",
       " [[0.544808855557535, -0.08366117689965663],\n",
       "  [-0.06331837550937104, 0.24078409926389266],\n",
       "  [0.08677202043839037, 0.8360167748667923],\n",
       "  [-0.0037249480614718, 0.0037249480614718]]]"
      ]
     },
     "execution_count": 13,
     "metadata": {},
     "output_type": "execute_result"
    }
   ],
   "source": [
    "nn_tanh_test()\n",
    "\n",
    "# Expected output:\n",
    "# '''\n",
    "# [[[1.2473733761848262, 0.2829538808226157, 0.6924193292712828],\n",
    "#   [1.5845507770278007, 1.320562932207846, -0.6901721567010647],\n",
    "#   [-8.47337764291184e-12, 2.6227368810847106e-09, 0.00017353185263155828]],\n",
    "#  [[0.544808855557535, -0.08366117689965663],\n",
    "#   [-0.06331837550937104, 0.24078409926389266],\n",
    "#   [0.08677202043839037, 0.8360167748667923],\n",
    "#   [-0.0037249480614718, 0.0037249480614718]]]\n",
    "# '''"
   ]
  },
  {
   "cell_type": "code",
   "execution_count": 14,
   "metadata": {
    "colab": {
     "base_uri": "https://localhost:8080/"
    },
    "id": "WmYT9IWk3TQL",
    "outputId": "0ced503b-2bd1-4f9f-c6c0-6891fbcabe79"
   },
   "outputs": [
    {
     "data": {
      "text/plain": [
       "[[[1.2421914999646917, 0.2851239946607419, 0.6905003767490479],\n",
       "  [1.5695659964519526, 1.3273884281993562, -0.6920877418422037],\n",
       "  [-0.0027754917572235106, 0.001212351486908601, -0.0005239629389906042]],\n",
       " [[0.501769700845158, -0.040622022187279644],\n",
       "  [-0.09260786974986723, 0.27007359350438886],\n",
       "  [0.08364438851530624, 0.8391444067898763],\n",
       "  [-0.004252310922204504, 0.004252310922204505]]]"
      ]
     },
     "execution_count": 14,
     "metadata": {},
     "output_type": "execute_result"
    }
   ],
   "source": [
    "nn_relu_test()\n",
    "\n",
    "# Expected output:\n",
    "# '''\n",
    "# [[[1.2421914999646917, 0.2851239946607419, 0.6905003767490479],\n",
    "#   [1.5695659964519526, 1.3273884281993562, -0.6920877418422037],\n",
    "#   [-0.0027754917572235106, 0.001212351486908601, -0.0005239629389906042]],\n",
    "#  [[0.501769700845158, -0.040622022187279644],\n",
    "#   [-0.09260786974986723, 0.27007359350438886],\n",
    "#   [0.08364438851530624, 0.8391444067898763],\n",
    "#   [-0.004252310922204504, 0.004252310922204505]]]\n",
    "# '''"
   ]
  },
  {
   "cell_type": "code",
   "execution_count": 15,
   "metadata": {
    "colab": {
     "base_uri": "https://localhost:8080/"
    },
    "id": "uo_woDFh3a2v",
    "outputId": "06fe9f35-cd37-415c-c8f9-e9975a6db5c4"
   },
   "outputs": [
    {
     "data": {
      "text/plain": [
       "([0, 0, 0, 0], [np.float64(8.565750618357672)])"
      ]
     },
     "execution_count": 15,
     "metadata": {},
     "output_type": "execute_result"
    }
   ],
   "source": [
    "nn_pred_test()\n",
    "\n",
    "# Expected output:\n",
    "# '''\n",
    "# ([0, 0, 0, 0], [8.56575061835767])\n",
    "# '''"
   ]
  }
 ],
 "metadata": {
  "colab": {
   "provenance": []
  },
  "kernelspec": {
   "display_name": "Python 3 (ipykernel)",
   "language": "python",
   "name": "python3"
  },
  "language_info": {
   "codemirror_mode": {
    "name": "ipython",
    "version": 3
   },
   "file_extension": ".py",
   "mimetype": "text/x-python",
   "name": "python",
   "nbconvert_exporter": "python",
   "pygments_lexer": "ipython3",
   "version": "3.12.7"
  }
 },
 "nbformat": 4,
 "nbformat_minor": 4
}
